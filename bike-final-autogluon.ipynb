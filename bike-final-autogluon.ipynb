{
 "cells": [
  {
   "cell_type": "code",
   "execution_count": 1,
   "metadata": {},
   "outputs": [],
   "source": [
    "import pandas as pd\n",
    "from autogluon.tabular import TabularPredictor\n",
    "import autogluon.core as ag\n",
    "from sklearn.model_selection import train_test_split\n",
    "from sklearn.preprocessing import StandardScaler\n",
    "import seaborn as sns"
   ]
  },
  {
   "cell_type": "code",
   "execution_count": 2,
   "metadata": {},
   "outputs": [
    {
     "data": {
      "text/html": [
       "<div>\n",
       "<style scoped>\n",
       "    .dataframe tbody tr th:only-of-type {\n",
       "        vertical-align: middle;\n",
       "    }\n",
       "\n",
       "    .dataframe tbody tr th {\n",
       "        vertical-align: top;\n",
       "    }\n",
       "\n",
       "    .dataframe thead th {\n",
       "        text-align: right;\n",
       "    }\n",
       "</style>\n",
       "<table border=\"1\" class=\"dataframe\">\n",
       "  <thead>\n",
       "    <tr style=\"text-align: right;\">\n",
       "      <th></th>\n",
       "      <th>season</th>\n",
       "      <th>holiday</th>\n",
       "      <th>workingday</th>\n",
       "      <th>weather</th>\n",
       "      <th>temp</th>\n",
       "      <th>atemp</th>\n",
       "      <th>humidity</th>\n",
       "      <th>windspeed</th>\n",
       "      <th>count</th>\n",
       "    </tr>\n",
       "    <tr>\n",
       "      <th>datetime</th>\n",
       "      <th></th>\n",
       "      <th></th>\n",
       "      <th></th>\n",
       "      <th></th>\n",
       "      <th></th>\n",
       "      <th></th>\n",
       "      <th></th>\n",
       "      <th></th>\n",
       "      <th></th>\n",
       "    </tr>\n",
       "  </thead>\n",
       "  <tbody>\n",
       "    <tr>\n",
       "      <th>2011-01-01 00:00:00</th>\n",
       "      <td>1</td>\n",
       "      <td>0</td>\n",
       "      <td>0</td>\n",
       "      <td>1</td>\n",
       "      <td>-1.333661</td>\n",
       "      <td>-1.092737</td>\n",
       "      <td>0.993213</td>\n",
       "      <td>-1.567754</td>\n",
       "      <td>16</td>\n",
       "    </tr>\n",
       "    <tr>\n",
       "      <th>2011-01-01 01:00:00</th>\n",
       "      <td>1</td>\n",
       "      <td>0</td>\n",
       "      <td>0</td>\n",
       "      <td>1</td>\n",
       "      <td>-1.438907</td>\n",
       "      <td>-1.182421</td>\n",
       "      <td>0.941249</td>\n",
       "      <td>-1.567754</td>\n",
       "      <td>40</td>\n",
       "    </tr>\n",
       "    <tr>\n",
       "      <th>2011-01-01 02:00:00</th>\n",
       "      <td>1</td>\n",
       "      <td>0</td>\n",
       "      <td>0</td>\n",
       "      <td>1</td>\n",
       "      <td>-1.438907</td>\n",
       "      <td>-1.182421</td>\n",
       "      <td>0.941249</td>\n",
       "      <td>-1.567754</td>\n",
       "      <td>32</td>\n",
       "    </tr>\n",
       "    <tr>\n",
       "      <th>2011-01-01 03:00:00</th>\n",
       "      <td>1</td>\n",
       "      <td>0</td>\n",
       "      <td>0</td>\n",
       "      <td>1</td>\n",
       "      <td>-1.333661</td>\n",
       "      <td>-1.092737</td>\n",
       "      <td>0.681430</td>\n",
       "      <td>-1.567754</td>\n",
       "      <td>13</td>\n",
       "    </tr>\n",
       "    <tr>\n",
       "      <th>2011-01-01 04:00:00</th>\n",
       "      <td>1</td>\n",
       "      <td>0</td>\n",
       "      <td>0</td>\n",
       "      <td>1</td>\n",
       "      <td>-1.333661</td>\n",
       "      <td>-1.092737</td>\n",
       "      <td>0.681430</td>\n",
       "      <td>-1.567754</td>\n",
       "      <td>1</td>\n",
       "    </tr>\n",
       "  </tbody>\n",
       "</table>\n",
       "</div>"
      ],
      "text/plain": [
       "                     season  holiday  workingday  weather      temp     atemp  \\\n",
       "datetime                                                                        \n",
       "2011-01-01 00:00:00       1        0           0        1 -1.333661 -1.092737   \n",
       "2011-01-01 01:00:00       1        0           0        1 -1.438907 -1.182421   \n",
       "2011-01-01 02:00:00       1        0           0        1 -1.438907 -1.182421   \n",
       "2011-01-01 03:00:00       1        0           0        1 -1.333661 -1.092737   \n",
       "2011-01-01 04:00:00       1        0           0        1 -1.333661 -1.092737   \n",
       "\n",
       "                     humidity  windspeed  count  \n",
       "datetime                                         \n",
       "2011-01-01 00:00:00  0.993213  -1.567754     16  \n",
       "2011-01-01 01:00:00  0.941249  -1.567754     40  \n",
       "2011-01-01 02:00:00  0.941249  -1.567754     32  \n",
       "2011-01-01 03:00:00  0.681430  -1.567754     13  \n",
       "2011-01-01 04:00:00  0.681430  -1.567754      1  "
      ]
     },
     "execution_count": 2,
     "metadata": {},
     "output_type": "execute_result"
    }
   ],
   "source": [
    "train = pd.read_csv('https://bike-share-data.s3.us-west-2.amazonaws.com/train.csv', \n",
    "                    parse_dates=['datetime'], \n",
    "                    index_col='datetime').drop(columns=['casual', 'registered'])\n",
    "scaler = StandardScaler()\n",
    "train[['temp', 'atemp','humidity', 'windspeed']] = scaler.fit_transform(train[['temp', 'atemp','humidity', 'windspeed']])\n",
    "train.head()"
   ]
  },
  {
   "cell_type": "code",
   "execution_count": 3,
   "metadata": {},
   "outputs": [],
   "source": [
    "import matplotlib.pyplot as plt"
   ]
  },
  {
   "cell_type": "code",
   "execution_count": 4,
   "metadata": {},
   "outputs": [
    {
     "data": {
      "text/plain": [
       "[<matplotlib.lines.Line2D at 0x7f5842f24f50>]"
      ]
     },
     "execution_count": 4,
     "metadata": {},
     "output_type": "execute_result"
    },
    {
     "data": {
      "image/png": "[encoded data removed]",
      "text/plain": [
       "<Figure size 432x288 with 1 Axes>"
      ]
     },
     "metadata": {
      "needs_background": "light"
     },
     "output_type": "display_data"
    }
   ],
   "source": [
    "plt.plot(train['count'].to_list())"
   ]
  },
  {
   "cell_type": "code",
   "execution_count": 5,
   "metadata": {},
   "outputs": [],
   "source": [
    "training_data = train.sample(frac=0.27)\n",
    "test_data = train.drop(training_data.index)"
   ]
  },
  {
   "cell_type": "code",
   "execution_count": 6,
   "metadata": {},
   "outputs": [
    {
     "data": {
      "text/plain": [
       "2939"
      ]
     },
     "execution_count": 6,
     "metadata": {},
     "output_type": "execute_result"
    }
   ],
   "source": [
    "len(training_data)"
   ]
  },
  {
   "cell_type": "code",
   "execution_count": 7,
   "metadata": {},
   "outputs": [
    {
     "data": {
      "text/plain": [
       "[<matplotlib.lines.Line2D at 0x7f5842f8c410>]"
      ]
     },
     "execution_count": 7,
     "metadata": {},
     "output_type": "execute_result"
    },
    {
     "data": {
      "image/png": "[encoded data removed]",
      "text/plain": [
       "<Figure size 432x288 with 1 Axes>"
      ]
     },
     "metadata": {
      "needs_background": "light"
     },
     "output_type": "display_data"
    }
   ],
   "source": [
    "plt.plot(training_data['count'].to_list())"
   ]
  },
  {
   "cell_type": "code",
   "execution_count": 8,
   "metadata": {},
   "outputs": [],
   "source": [
    "train_data = train.drop(test_data.index) "
   ]
  },
  {
   "cell_type": "code",
   "execution_count": 9,
   "metadata": {},
   "outputs": [
    {
     "data": {
      "text/plain": [
       "[<matplotlib.lines.Line2D at 0x7f5842f94690>]"
      ]
     },
     "execution_count": 9,
     "metadata": {},
     "output_type": "execute_result"
    },
    {
     "data": {
      "image/png": "[encoded data removed]",
      "text/plain": [
       "<Figure size 432x288 with 1 Axes>"
      ]
     },
     "metadata": {
      "needs_background": "light"
     },
     "output_type": "display_data"
    }
   ],
   "source": [
    "plt.plot(train_data['count'].to_list())"
   ]
  },
  {
   "cell_type": "code",
   "execution_count": 10,
   "metadata": {},
   "outputs": [],
   "source": [
    "training_data = test_data"
   ]
  },
  {
   "cell_type": "code",
   "execution_count": 11,
   "metadata": {},
   "outputs": [
    {
     "data": {
      "text/plain": [
       "[<matplotlib.lines.Line2D at 0x7f5842ff9110>]"
      ]
     },
     "execution_count": 11,
     "metadata": {},
     "output_type": "execute_result"
    },
    {
     "data": {
      "image/png": "[encoded data removed]",
      "text/plain": [
       "<Figure size 432x288 with 1 Axes>"
      ]
     },
     "metadata": {
      "needs_background": "light"
     },
     "output_type": "display_data"
    }
   ],
   "source": [
    "plt.plot(test_data['count'].to_list())"
   ]
  },
  {
   "cell_type": "code",
   "execution_count": 12,
   "metadata": {},
   "outputs": [
    {
     "data": {
      "text/html": [
       "<div>\n",
       "<style scoped>\n",
       "    .dataframe tbody tr th:only-of-type {\n",
       "        vertical-align: middle;\n",
       "    }\n",
       "\n",
       "    .dataframe tbody tr th {\n",
       "        vertical-align: top;\n",
       "    }\n",
       "\n",
       "    .dataframe thead th {\n",
       "        text-align: right;\n",
       "    }\n",
       "</style>\n",
       "<table border=\"1\" class=\"dataframe\">\n",
       "  <thead>\n",
       "    <tr style=\"text-align: right;\">\n",
       "      <th></th>\n",
       "      <th>season</th>\n",
       "      <th>holiday</th>\n",
       "      <th>workingday</th>\n",
       "      <th>weather</th>\n",
       "      <th>temp</th>\n",
       "      <th>atemp</th>\n",
       "      <th>humidity</th>\n",
       "      <th>windspeed</th>\n",
       "      <th>count</th>\n",
       "    </tr>\n",
       "    <tr>\n",
       "      <th>datetime</th>\n",
       "      <th></th>\n",
       "      <th></th>\n",
       "      <th></th>\n",
       "      <th></th>\n",
       "      <th></th>\n",
       "      <th></th>\n",
       "      <th></th>\n",
       "      <th></th>\n",
       "      <th></th>\n",
       "    </tr>\n",
       "  </thead>\n",
       "  <tbody>\n",
       "    <tr>\n",
       "      <th>2011-01-01 00:00:00</th>\n",
       "      <td>1</td>\n",
       "      <td>0</td>\n",
       "      <td>0</td>\n",
       "      <td>1</td>\n",
       "      <td>-1.333661</td>\n",
       "      <td>-1.092737</td>\n",
       "      <td>0.993213</td>\n",
       "      <td>-1.567754</td>\n",
       "      <td>16</td>\n",
       "    </tr>\n",
       "    <tr>\n",
       "      <th>2011-01-01 06:00:00</th>\n",
       "      <td>1</td>\n",
       "      <td>0</td>\n",
       "      <td>0</td>\n",
       "      <td>1</td>\n",
       "      <td>-1.438907</td>\n",
       "      <td>-1.182421</td>\n",
       "      <td>0.941249</td>\n",
       "      <td>-1.567754</td>\n",
       "      <td>2</td>\n",
       "    </tr>\n",
       "    <tr>\n",
       "      <th>2011-01-01 07:00:00</th>\n",
       "      <td>1</td>\n",
       "      <td>0</td>\n",
       "      <td>0</td>\n",
       "      <td>1</td>\n",
       "      <td>-1.544154</td>\n",
       "      <td>-1.271515</td>\n",
       "      <td>1.253032</td>\n",
       "      <td>-1.567754</td>\n",
       "      <td>3</td>\n",
       "    </tr>\n",
       "    <tr>\n",
       "      <th>2011-01-01 08:00:00</th>\n",
       "      <td>1</td>\n",
       "      <td>0</td>\n",
       "      <td>0</td>\n",
       "      <td>1</td>\n",
       "      <td>-1.333661</td>\n",
       "      <td>-1.092737</td>\n",
       "      <td>0.681430</td>\n",
       "      <td>-1.567754</td>\n",
       "      <td>8</td>\n",
       "    </tr>\n",
       "    <tr>\n",
       "      <th>2011-01-01 11:00:00</th>\n",
       "      <td>1</td>\n",
       "      <td>0</td>\n",
       "      <td>0</td>\n",
       "      <td>1</td>\n",
       "      <td>-0.702182</td>\n",
       "      <td>-0.824865</td>\n",
       "      <td>0.993213</td>\n",
       "      <td>0.759638</td>\n",
       "      <td>56</td>\n",
       "    </tr>\n",
       "    <tr>\n",
       "      <th>...</th>\n",
       "      <td>...</td>\n",
       "      <td>...</td>\n",
       "      <td>...</td>\n",
       "      <td>...</td>\n",
       "      <td>...</td>\n",
       "      <td>...</td>\n",
       "      <td>...</td>\n",
       "      <td>...</td>\n",
       "      <td>...</td>\n",
       "    </tr>\n",
       "    <tr>\n",
       "      <th>2012-12-19 11:00:00</th>\n",
       "      <td>4</td>\n",
       "      <td>0</td>\n",
       "      <td>1</td>\n",
       "      <td>1</td>\n",
       "      <td>-0.491689</td>\n",
       "      <td>-0.377626</td>\n",
       "      <td>-0.409811</td>\n",
       "      <td>0.269704</td>\n",
       "      <td>200</td>\n",
       "    </tr>\n",
       "    <tr>\n",
       "      <th>2012-12-19 12:00:00</th>\n",
       "      <td>4</td>\n",
       "      <td>0</td>\n",
       "      <td>1</td>\n",
       "      <td>1</td>\n",
       "      <td>-0.491689</td>\n",
       "      <td>-0.377626</td>\n",
       "      <td>-0.409811</td>\n",
       "      <td>0.759638</td>\n",
       "      <td>236</td>\n",
       "    </tr>\n",
       "    <tr>\n",
       "      <th>2012-12-19 16:00:00</th>\n",
       "      <td>4</td>\n",
       "      <td>0</td>\n",
       "      <td>1</td>\n",
       "      <td>1</td>\n",
       "      <td>-0.386442</td>\n",
       "      <td>-0.288532</td>\n",
       "      <td>-0.617666</td>\n",
       "      <td>1.371850</td>\n",
       "      <td>334</td>\n",
       "    </tr>\n",
       "    <tr>\n",
       "      <th>2012-12-19 21:00:00</th>\n",
       "      <td>4</td>\n",
       "      <td>0</td>\n",
       "      <td>1</td>\n",
       "      <td>1</td>\n",
       "      <td>-0.807428</td>\n",
       "      <td>-0.913959</td>\n",
       "      <td>-0.046064</td>\n",
       "      <td>0.269704</td>\n",
       "      <td>168</td>\n",
       "    </tr>\n",
       "    <tr>\n",
       "      <th>2012-12-19 22:00:00</th>\n",
       "      <td>4</td>\n",
       "      <td>0</td>\n",
       "      <td>1</td>\n",
       "      <td>1</td>\n",
       "      <td>-0.807428</td>\n",
       "      <td>-0.735182</td>\n",
       "      <td>-0.046064</td>\n",
       "      <td>-0.832442</td>\n",
       "      <td>129</td>\n",
       "    </tr>\n",
       "  </tbody>\n",
       "</table>\n",
       "<p>2939 rows × 9 columns</p>\n",
       "</div>"
      ],
      "text/plain": [
       "                     season  holiday  workingday  weather      temp     atemp  \\\n",
       "datetime                                                                        \n",
       "2011-01-01 00:00:00       1        0           0        1 -1.333661 -1.092737   \n",
       "2011-01-01 06:00:00       1        0           0        1 -1.438907 -1.182421   \n",
       "2011-01-01 07:00:00       1        0           0        1 -1.544154 -1.271515   \n",
       "2011-01-01 08:00:00       1        0           0        1 -1.333661 -1.092737   \n",
       "2011-01-01 11:00:00       1        0           0        1 -0.702182 -0.824865   \n",
       "...                     ...      ...         ...      ...       ...       ...   \n",
       "2012-12-19 11:00:00       4        0           1        1 -0.491689 -0.377626   \n",
       "2012-12-19 12:00:00       4        0           1        1 -0.491689 -0.377626   \n",
       "2012-12-19 16:00:00       4        0           1        1 -0.386442 -0.288532   \n",
       "2012-12-19 21:00:00       4        0           1        1 -0.807428 -0.913959   \n",
       "2012-12-19 22:00:00       4        0           1        1 -0.807428 -0.735182   \n",
       "\n",
       "                     humidity  windspeed  count  \n",
       "datetime                                         \n",
       "2011-01-01 00:00:00  0.993213  -1.567754     16  \n",
       "2011-01-01 06:00:00  0.941249  -1.567754      2  \n",
       "2011-01-01 07:00:00  1.253032  -1.567754      3  \n",
       "2011-01-01 08:00:00  0.681430  -1.567754      8  \n",
       "2011-01-01 11:00:00  0.993213   0.759638     56  \n",
       "...                       ...        ...    ...  \n",
       "2012-12-19 11:00:00 -0.409811   0.269704    200  \n",
       "2012-12-19 12:00:00 -0.409811   0.759638    236  \n",
       "2012-12-19 16:00:00 -0.617666   1.371850    334  \n",
       "2012-12-19 21:00:00 -0.046064   0.269704    168  \n",
       "2012-12-19 22:00:00 -0.046064  -0.832442    129  \n",
       "\n",
       "[2939 rows x 9 columns]"
      ]
     },
     "execution_count": 12,
     "metadata": {},
     "output_type": "execute_result"
    }
   ],
   "source": [
    "train_data"
   ]
  },
  {
   "cell_type": "code",
   "execution_count": 13,
   "metadata": {},
   "outputs": [
    {
     "data": {
      "text/html": [
       "<div>\n",
       "<style scoped>\n",
       "    .dataframe tbody tr th:only-of-type {\n",
       "        vertical-align: middle;\n",
       "    }\n",
       "\n",
       "    .dataframe tbody tr th {\n",
       "        vertical-align: top;\n",
       "    }\n",
       "\n",
       "    .dataframe thead th {\n",
       "        text-align: right;\n",
       "    }\n",
       "</style>\n",
       "<table border=\"1\" class=\"dataframe\">\n",
       "  <thead>\n",
       "    <tr style=\"text-align: right;\">\n",
       "      <th></th>\n",
       "      <th>season</th>\n",
       "      <th>holiday</th>\n",
       "      <th>workingday</th>\n",
       "      <th>weather</th>\n",
       "      <th>temp</th>\n",
       "      <th>atemp</th>\n",
       "      <th>humidity</th>\n",
       "      <th>windspeed</th>\n",
       "      <th>count</th>\n",
       "    </tr>\n",
       "    <tr>\n",
       "      <th>datetime</th>\n",
       "      <th></th>\n",
       "      <th></th>\n",
       "      <th></th>\n",
       "      <th></th>\n",
       "      <th></th>\n",
       "      <th></th>\n",
       "      <th></th>\n",
       "      <th></th>\n",
       "      <th></th>\n",
       "    </tr>\n",
       "  </thead>\n",
       "  <tbody>\n",
       "    <tr>\n",
       "      <th>2011-01-01 01:00:00</th>\n",
       "      <td>1</td>\n",
       "      <td>0</td>\n",
       "      <td>0</td>\n",
       "      <td>1</td>\n",
       "      <td>-1.438907</td>\n",
       "      <td>-1.182421</td>\n",
       "      <td>0.941249</td>\n",
       "      <td>-1.567754</td>\n",
       "      <td>40</td>\n",
       "    </tr>\n",
       "    <tr>\n",
       "      <th>2011-01-01 02:00:00</th>\n",
       "      <td>1</td>\n",
       "      <td>0</td>\n",
       "      <td>0</td>\n",
       "      <td>1</td>\n",
       "      <td>-1.438907</td>\n",
       "      <td>-1.182421</td>\n",
       "      <td>0.941249</td>\n",
       "      <td>-1.567754</td>\n",
       "      <td>32</td>\n",
       "    </tr>\n",
       "    <tr>\n",
       "      <th>2011-01-01 03:00:00</th>\n",
       "      <td>1</td>\n",
       "      <td>0</td>\n",
       "      <td>0</td>\n",
       "      <td>1</td>\n",
       "      <td>-1.333661</td>\n",
       "      <td>-1.092737</td>\n",
       "      <td>0.681430</td>\n",
       "      <td>-1.567754</td>\n",
       "      <td>13</td>\n",
       "    </tr>\n",
       "    <tr>\n",
       "      <th>2011-01-01 04:00:00</th>\n",
       "      <td>1</td>\n",
       "      <td>0</td>\n",
       "      <td>0</td>\n",
       "      <td>1</td>\n",
       "      <td>-1.333661</td>\n",
       "      <td>-1.092737</td>\n",
       "      <td>0.681430</td>\n",
       "      <td>-1.567754</td>\n",
       "      <td>1</td>\n",
       "    </tr>\n",
       "    <tr>\n",
       "      <th>2011-01-01 05:00:00</th>\n",
       "      <td>1</td>\n",
       "      <td>0</td>\n",
       "      <td>0</td>\n",
       "      <td>2</td>\n",
       "      <td>-1.333661</td>\n",
       "      <td>-1.271515</td>\n",
       "      <td>0.681430</td>\n",
       "      <td>-0.832442</td>\n",
       "      <td>1</td>\n",
       "    </tr>\n",
       "    <tr>\n",
       "      <th>...</th>\n",
       "      <td>...</td>\n",
       "      <td>...</td>\n",
       "      <td>...</td>\n",
       "      <td>...</td>\n",
       "      <td>...</td>\n",
       "      <td>...</td>\n",
       "      <td>...</td>\n",
       "      <td>...</td>\n",
       "      <td>...</td>\n",
       "    </tr>\n",
       "    <tr>\n",
       "      <th>2012-12-19 17:00:00</th>\n",
       "      <td>4</td>\n",
       "      <td>0</td>\n",
       "      <td>1</td>\n",
       "      <td>1</td>\n",
       "      <td>-0.491689</td>\n",
       "      <td>-0.377626</td>\n",
       "      <td>-0.617666</td>\n",
       "      <td>1.617227</td>\n",
       "      <td>562</td>\n",
       "    </tr>\n",
       "    <tr>\n",
       "      <th>2012-12-19 18:00:00</th>\n",
       "      <td>4</td>\n",
       "      <td>0</td>\n",
       "      <td>1</td>\n",
       "      <td>1</td>\n",
       "      <td>-0.596935</td>\n",
       "      <td>-0.467310</td>\n",
       "      <td>-0.617666</td>\n",
       "      <td>1.371850</td>\n",
       "      <td>569</td>\n",
       "    </tr>\n",
       "    <tr>\n",
       "      <th>2012-12-19 19:00:00</th>\n",
       "      <td>4</td>\n",
       "      <td>0</td>\n",
       "      <td>1</td>\n",
       "      <td>1</td>\n",
       "      <td>-0.596935</td>\n",
       "      <td>-0.467310</td>\n",
       "      <td>-0.617666</td>\n",
       "      <td>1.617227</td>\n",
       "      <td>336</td>\n",
       "    </tr>\n",
       "    <tr>\n",
       "      <th>2012-12-19 20:00:00</th>\n",
       "      <td>4</td>\n",
       "      <td>0</td>\n",
       "      <td>1</td>\n",
       "      <td>1</td>\n",
       "      <td>-0.702182</td>\n",
       "      <td>-0.735182</td>\n",
       "      <td>-0.253919</td>\n",
       "      <td>0.269704</td>\n",
       "      <td>241</td>\n",
       "    </tr>\n",
       "    <tr>\n",
       "      <th>2012-12-19 23:00:00</th>\n",
       "      <td>4</td>\n",
       "      <td>0</td>\n",
       "      <td>1</td>\n",
       "      <td>1</td>\n",
       "      <td>-0.912675</td>\n",
       "      <td>-0.824865</td>\n",
       "      <td>0.213755</td>\n",
       "      <td>-0.465608</td>\n",
       "      <td>88</td>\n",
       "    </tr>\n",
       "  </tbody>\n",
       "</table>\n",
       "<p>7947 rows × 9 columns</p>\n",
       "</div>"
      ],
      "text/plain": [
       "                     season  holiday  workingday  weather      temp     atemp  \\\n",
       "datetime                                                                        \n",
       "2011-01-01 01:00:00       1        0           0        1 -1.438907 -1.182421   \n",
       "2011-01-01 02:00:00       1        0           0        1 -1.438907 -1.182421   \n",
       "2011-01-01 03:00:00       1        0           0        1 -1.333661 -1.092737   \n",
       "2011-01-01 04:00:00       1        0           0        1 -1.333661 -1.092737   \n",
       "2011-01-01 05:00:00       1        0           0        2 -1.333661 -1.271515   \n",
       "...                     ...      ...         ...      ...       ...       ...   \n",
       "2012-12-19 17:00:00       4        0           1        1 -0.491689 -0.377626   \n",
       "2012-12-19 18:00:00       4        0           1        1 -0.596935 -0.467310   \n",
       "2012-12-19 19:00:00       4        0           1        1 -0.596935 -0.467310   \n",
       "2012-12-19 20:00:00       4        0           1        1 -0.702182 -0.735182   \n",
       "2012-12-19 23:00:00       4        0           1        1 -0.912675 -0.824865   \n",
       "\n",
       "                     humidity  windspeed  count  \n",
       "datetime                                         \n",
       "2011-01-01 01:00:00  0.941249  -1.567754     40  \n",
       "2011-01-01 02:00:00  0.941249  -1.567754     32  \n",
       "2011-01-01 03:00:00  0.681430  -1.567754     13  \n",
       "2011-01-01 04:00:00  0.681430  -1.567754      1  \n",
       "2011-01-01 05:00:00  0.681430  -0.832442      1  \n",
       "...                       ...        ...    ...  \n",
       "2012-12-19 17:00:00 -0.617666   1.617227    562  \n",
       "2012-12-19 18:00:00 -0.617666   1.371850    569  \n",
       "2012-12-19 19:00:00 -0.617666   1.617227    336  \n",
       "2012-12-19 20:00:00 -0.253919   0.269704    241  \n",
       "2012-12-19 23:00:00  0.213755  -0.465608     88  \n",
       "\n",
       "[7947 rows x 9 columns]"
      ]
     },
     "execution_count": 13,
     "metadata": {},
     "output_type": "execute_result"
    }
   ],
   "source": [
    "test_data"
   ]
  },
  {
   "cell_type": "code",
   "execution_count": 14,
   "metadata": {
    "scrolled": false
   },
   "outputs": [
    {
     "name": "stderr",
     "output_type": "stream",
     "text": [
      "\tWarning: Exception caused NeuralNetMXNet_BAG_L1 to fail during training... Skipping this model.\n",
      "\t\tlibcudnn.so.7: cannot open shared object file: No such file or directory\n",
      "\tWarning: Exception caused NeuralNetMXNet_BAG_L2 to fail during training... Skipping this model.\n",
      "\t\tlibcudnn.so.7: cannot open shared object file: No such file or directory\n"
     ]
    }
   ],
   "source": [
    "label = 'count'\n",
    "problem_type ='regression'\n",
    "eval_metric ='root_mean_squared_error'\n",
    "time_limit = 600\n",
    "presets = 'best_quality'\n",
    "\n",
    "predictor = TabularPredictor(label=label, \n",
    "                             problem_type=problem_type,\n",
    "                             eval_metric=eval_metric,\n",
    "                             verbosity=0).fit(train_data=train_data, \n",
    "                                              time_limit=time_limit, auto_stack = True,\n",
    "                                              presets=presets)"
   ]
  },
  {
   "cell_type": "code",
   "execution_count": 31,
   "metadata": {},
   "outputs": [],
   "source": [
    "import numpy as np"
   ]
  },
  {
   "cell_type": "code",
   "execution_count": 32,
   "metadata": {},
   "outputs": [
    {
     "name": "stdout",
     "output_type": "stream",
     "text": [
      "1.19.5\n"
     ]
    }
   ],
   "source": [
    "print(np.__version__)"
   ]
  },
  {
   "cell_type": "code",
   "execution_count": 15,
   "metadata": {},
   "outputs": [
    {
     "data": {
      "text/plain": [
       "{'model_types': {'KNeighborsUnif_BAG_L1': 'StackerEnsembleModel_KNN',\n",
       "  'KNeighborsDist_BAG_L1': 'StackerEnsembleModel_KNN',\n",
       "  'LightGBMXT_BAG_L1': 'StackerEnsembleModel_LGB',\n",
       "  'LightGBM_BAG_L1': 'StackerEnsembleModel_LGB',\n",
       "  'RandomForestMSE_BAG_L1': 'StackerEnsembleModel_RF',\n",
       "  'CatBoost_BAG_L1': 'StackerEnsembleModel_CatBoost',\n",
       "  'ExtraTreesMSE_BAG_L1': 'StackerEnsembleModel_XT',\n",
       "  'NeuralNetFastAI_BAG_L1': 'StackerEnsembleModel_NNFastAiTabular',\n",
       "  'XGBoost_BAG_L1': 'StackerEnsembleModel_XGBoost',\n",
       "  'LightGBMLarge_BAG_L1': 'StackerEnsembleModel_LGB',\n",
       "  'WeightedEnsemble_L2': 'WeightedEnsembleModel',\n",
       "  'LightGBMXT_BAG_L2': 'StackerEnsembleModel_LGB',\n",
       "  'LightGBM_BAG_L2': 'StackerEnsembleModel_LGB',\n",
       "  'RandomForestMSE_BAG_L2': 'StackerEnsembleModel_RF',\n",
       "  'CatBoost_BAG_L2': 'StackerEnsembleModel_CatBoost',\n",
       "  'ExtraTreesMSE_BAG_L2': 'StackerEnsembleModel_XT',\n",
       "  'NeuralNetFastAI_BAG_L2': 'StackerEnsembleModel_NNFastAiTabular',\n",
       "  'XGBoost_BAG_L2': 'StackerEnsembleModel_XGBoost',\n",
       "  'LightGBMLarge_BAG_L2': 'StackerEnsembleModel_LGB',\n",
       "  'WeightedEnsemble_L3': 'WeightedEnsembleModel'},\n",
       " 'model_performance': {'KNeighborsUnif_BAG_L1': -161.71426059100918,\n",
       "  'KNeighborsDist_BAG_L1': -166.58405892223917,\n",
       "  'LightGBMXT_BAG_L1': -150.98121750345194,\n",
       "  'LightGBM_BAG_L1': -150.80510508069327,\n",
       "  'RandomForestMSE_BAG_L1': -158.40643476953147,\n",
       "  'CatBoost_BAG_L1': -150.2389573621827,\n",
       "  'ExtraTreesMSE_BAG_L1': -156.0806145784072,\n",
       "  'NeuralNetFastAI_BAG_L1': -149.86957919675567,\n",
       "  'XGBoost_BAG_L1': -151.65833617604912,\n",
       "  'LightGBMLarge_BAG_L1': -152.21969337183015,\n",
       "  'WeightedEnsemble_L2': -148.56248471865837,\n",
       "  'LightGBMXT_BAG_L2': -148.8676406299512,\n",
       "  'LightGBM_BAG_L2': -150.9611268440002,\n",
       "  'RandomForestMSE_BAG_L2': -151.49800438994214,\n",
       "  'CatBoost_BAG_L2': -148.9007425944814,\n",
       "  'ExtraTreesMSE_BAG_L2': -150.11105134102397,\n",
       "  'NeuralNetFastAI_BAG_L2': -147.68971911611652,\n",
       "  'XGBoost_BAG_L2': -149.9444673153068,\n",
       "  'LightGBMLarge_BAG_L2': -151.38763802733334,\n",
       "  'WeightedEnsemble_L3': -147.43269175833026},\n",
       " 'model_best': 'WeightedEnsemble_L3',\n",
       " 'model_paths': {'KNeighborsUnif_BAG_L1': 'AutogluonModels/ag-20211115_225531/models/KNeighborsUnif_BAG_L1/',\n",
       "  'KNeighborsDist_BAG_L1': 'AutogluonModels/ag-20211115_225531/models/KNeighborsDist_BAG_L1/',\n",
       "  'LightGBMXT_BAG_L1': 'AutogluonModels/ag-20211115_225531/models/LightGBMXT_BAG_L1/',\n",
       "  'LightGBM_BAG_L1': 'AutogluonModels/ag-20211115_225531/models/LightGBM_BAG_L1/',\n",
       "  'RandomForestMSE_BAG_L1': 'AutogluonModels/ag-20211115_225531/models/RandomForestMSE_BAG_L1/',\n",
       "  'CatBoost_BAG_L1': 'AutogluonModels/ag-20211115_225531/models/CatBoost_BAG_L1/',\n",
       "  'ExtraTreesMSE_BAG_L1': 'AutogluonModels/ag-20211115_225531/models/ExtraTreesMSE_BAG_L1/',\n",
       "  'NeuralNetFastAI_BAG_L1': 'AutogluonModels/ag-20211115_225531/models/NeuralNetFastAI_BAG_L1/',\n",
       "  'XGBoost_BAG_L1': 'AutogluonModels/ag-20211115_225531/models/XGBoost_BAG_L1/',\n",
       "  'LightGBMLarge_BAG_L1': 'AutogluonModels/ag-20211115_225531/models/LightGBMLarge_BAG_L1/',\n",
       "  'WeightedEnsemble_L2': 'AutogluonModels/ag-20211115_225531/models/WeightedEnsemble_L2/',\n",
       "  'LightGBMXT_BAG_L2': 'AutogluonModels/ag-20211115_225531/models/LightGBMXT_BAG_L2/',\n",
       "  'LightGBM_BAG_L2': 'AutogluonModels/ag-20211115_225531/models/LightGBM_BAG_L2/',\n",
       "  'RandomForestMSE_BAG_L2': 'AutogluonModels/ag-20211115_225531/models/RandomForestMSE_BAG_L2/',\n",
       "  'CatBoost_BAG_L2': 'AutogluonModels/ag-20211115_225531/models/CatBoost_BAG_L2/',\n",
       "  'ExtraTreesMSE_BAG_L2': 'AutogluonModels/ag-20211115_225531/models/ExtraTreesMSE_BAG_L2/',\n",
       "  'NeuralNetFastAI_BAG_L2': 'AutogluonModels/ag-20211115_225531/models/NeuralNetFastAI_BAG_L2/',\n",
       "  'XGBoost_BAG_L2': 'AutogluonModels/ag-20211115_225531/models/XGBoost_BAG_L2/',\n",
       "  'LightGBMLarge_BAG_L2': 'AutogluonModels/ag-20211115_225531/models/LightGBMLarge_BAG_L2/',\n",
       "  'WeightedEnsemble_L3': 'AutogluonModels/ag-20211115_225531/models/WeightedEnsemble_L3/'},\n",
       " 'model_fit_times': {'KNeighborsUnif_BAG_L1': 0.008814334869384766,\n",
       "  'KNeighborsDist_BAG_L1': 0.0045621395111083984,\n",
       "  'LightGBMXT_BAG_L1': 35.1146981716156,\n",
       "  'LightGBM_BAG_L1': 13.287200689315796,\n",
       "  'RandomForestMSE_BAG_L1': 0.807389497756958,\n",
       "  'CatBoost_BAG_L1': 16.12446904182434,\n",
       "  'ExtraTreesMSE_BAG_L1': 0.7715065479278564,\n",
       "  'NeuralNetFastAI_BAG_L1': 200.92382979393005,\n",
       "  'XGBoost_BAG_L1': 12.137893676757812,\n",
       "  'LightGBMLarge_BAG_L1': 36.909892320632935,\n",
       "  'WeightedEnsemble_L2': 0.21066617965698242,\n",
       "  'LightGBMXT_BAG_L2': 9.753721952438354,\n",
       "  'LightGBM_BAG_L2': 9.788811445236206,\n",
       "  'RandomForestMSE_BAG_L2': 1.6005470752716064,\n",
       "  'CatBoost_BAG_L2': 13.664873838424683,\n",
       "  'ExtraTreesMSE_BAG_L2': 1.0144665241241455,\n",
       "  'NeuralNetFastAI_BAG_L2': 137.38257813453674,\n",
       "  'XGBoost_BAG_L2': 26.472289562225342,\n",
       "  'LightGBMLarge_BAG_L2': 29.260624885559082,\n",
       "  'WeightedEnsemble_L3': 0.16411352157592773},\n",
       " 'model_pred_times': {'KNeighborsUnif_BAG_L1': 0.10543513298034668,\n",
       "  'KNeighborsDist_BAG_L1': 0.10281181335449219,\n",
       "  'LightGBMXT_BAG_L1': 0.30542993545532227,\n",
       "  'LightGBM_BAG_L1': 0.21956682205200195,\n",
       "  'RandomForestMSE_BAG_L1': 0.13549566268920898,\n",
       "  'CatBoost_BAG_L1': 0.12669754028320312,\n",
       "  'ExtraTreesMSE_BAG_L1': 0.1325974464416504,\n",
       "  'NeuralNetFastAI_BAG_L1': 1.1053779125213623,\n",
       "  'XGBoost_BAG_L1': 0.2338874340057373,\n",
       "  'LightGBMLarge_BAG_L1': 0.2537071704864502,\n",
       "  'WeightedEnsemble_L2': 0.00046825408935546875,\n",
       "  'LightGBMXT_BAG_L2': 0.15960192680358887,\n",
       "  'LightGBM_BAG_L2': 0.1659538745880127,\n",
       "  'RandomForestMSE_BAG_L2': 0.2057485580444336,\n",
       "  'CatBoost_BAG_L2': 0.09217619895935059,\n",
       "  'ExtraTreesMSE_BAG_L2': 0.14479970932006836,\n",
       "  'NeuralNetFastAI_BAG_L2': 0.9977226257324219,\n",
       "  'XGBoost_BAG_L2': 0.17998027801513672,\n",
       "  'LightGBMLarge_BAG_L2': 0.18881464004516602,\n",
       "  'WeightedEnsemble_L3': 0.0004394054412841797},\n",
       " 'num_bag_folds': 10,\n",
       " 'max_stack_level': 3,\n",
       " 'model_hyperparams': {'KNeighborsUnif_BAG_L1': {'use_orig_features': True,\n",
       "   'max_base_models': 25,\n",
       "   'max_base_models_per_type': 5,\n",
       "   'save_bag_folds': True,\n",
       "   'use_child_oof': True},\n",
       "  'KNeighborsDist_BAG_L1': {'use_orig_features': True,\n",
       "   'max_base_models': 25,\n",
       "   'max_base_models_per_type': 5,\n",
       "   'save_bag_folds': True,\n",
       "   'use_child_oof': True},\n",
       "  'LightGBMXT_BAG_L1': {'use_orig_features': True,\n",
       "   'max_base_models': 25,\n",
       "   'max_base_models_per_type': 5,\n",
       "   'save_bag_folds': True},\n",
       "  'LightGBM_BAG_L1': {'use_orig_features': True,\n",
       "   'max_base_models': 25,\n",
       "   'max_base_models_per_type': 5,\n",
       "   'save_bag_folds': True},\n",
       "  'RandomForestMSE_BAG_L1': {'use_orig_features': True,\n",
       "   'max_base_models': 25,\n",
       "   'max_base_models_per_type': 5,\n",
       "   'save_bag_folds': True,\n",
       "   'use_child_oof': True},\n",
       "  'CatBoost_BAG_L1': {'use_orig_features': True,\n",
       "   'max_base_models': 25,\n",
       "   'max_base_models_per_type': 5,\n",
       "   'save_bag_folds': True},\n",
       "  'ExtraTreesMSE_BAG_L1': {'use_orig_features': True,\n",
       "   'max_base_models': 25,\n",
       "   'max_base_models_per_type': 5,\n",
       "   'save_bag_folds': True,\n",
       "   'use_child_oof': True},\n",
       "  'NeuralNetFastAI_BAG_L1': {'use_orig_features': True,\n",
       "   'max_base_models': 25,\n",
       "   'max_base_models_per_type': 5,\n",
       "   'save_bag_folds': True},\n",
       "  'XGBoost_BAG_L1': {'use_orig_features': True,\n",
       "   'max_base_models': 25,\n",
       "   'max_base_models_per_type': 5,\n",
       "   'save_bag_folds': True},\n",
       "  'LightGBMLarge_BAG_L1': {'use_orig_features': True,\n",
       "   'max_base_models': 25,\n",
       "   'max_base_models_per_type': 5,\n",
       "   'save_bag_folds': True},\n",
       "  'WeightedEnsemble_L2': {'use_orig_features': False,\n",
       "   'max_base_models': 25,\n",
       "   'max_base_models_per_type': 5,\n",
       "   'save_bag_folds': True},\n",
       "  'LightGBMXT_BAG_L2': {'use_orig_features': True,\n",
       "   'max_base_models': 25,\n",
       "   'max_base_models_per_type': 5,\n",
       "   'save_bag_folds': True},\n",
       "  'LightGBM_BAG_L2': {'use_orig_features': True,\n",
       "   'max_base_models': 25,\n",
       "   'max_base_models_per_type': 5,\n",
       "   'save_bag_folds': True},\n",
       "  'RandomForestMSE_BAG_L2': {'use_orig_features': True,\n",
       "   'max_base_models': 25,\n",
       "   'max_base_models_per_type': 5,\n",
       "   'save_bag_folds': True,\n",
       "   'use_child_oof': True},\n",
       "  'CatBoost_BAG_L2': {'use_orig_features': True,\n",
       "   'max_base_models': 25,\n",
       "   'max_base_models_per_type': 5,\n",
       "   'save_bag_folds': True},\n",
       "  'ExtraTreesMSE_BAG_L2': {'use_orig_features': True,\n",
       "   'max_base_models': 25,\n",
       "   'max_base_models_per_type': 5,\n",
       "   'save_bag_folds': True,\n",
       "   'use_child_oof': True},\n",
       "  'NeuralNetFastAI_BAG_L2': {'use_orig_features': True,\n",
       "   'max_base_models': 25,\n",
       "   'max_base_models_per_type': 5,\n",
       "   'save_bag_folds': True},\n",
       "  'XGBoost_BAG_L2': {'use_orig_features': True,\n",
       "   'max_base_models': 25,\n",
       "   'max_base_models_per_type': 5,\n",
       "   'save_bag_folds': True},\n",
       "  'LightGBMLarge_BAG_L2': {'use_orig_features': True,\n",
       "   'max_base_models': 25,\n",
       "   'max_base_models_per_type': 5,\n",
       "   'save_bag_folds': True},\n",
       "  'WeightedEnsemble_L3': {'use_orig_features': False,\n",
       "   'max_base_models': 25,\n",
       "   'max_base_models_per_type': 5,\n",
       "   'save_bag_folds': True}}}"
      ]
     },
     "execution_count": 15,
     "metadata": {},
     "output_type": "execute_result"
    }
   ],
   "source": [
    "predictor.fit_summary(verbosity=0)"
   ]
  },
  {
   "cell_type": "code",
   "execution_count": 16,
   "metadata": {},
   "outputs": [
    {
     "data": {
      "text/plain": [
       "<matplotlib.axes._subplots.AxesSubplot at 0x7f57d60813d0>"
      ]
     },
     "execution_count": 16,
     "metadata": {},
     "output_type": "execute_result"
    },
    {
     "data": {
      "image/png": "[encoded data removed]",
      "text/plain": [
       "<Figure size 432x288 with 1 Axes>"
      ]
     },
     "metadata": {
      "needs_background": "light"
     },
     "output_type": "display_data"
    }
   ],
   "source": [
    "predictor.leaderboard(silent=True).plot(kind='bar', x='model', y='score_val')"
   ]
  },
  {
   "cell_type": "code",
   "execution_count": 19,
   "metadata": {},
   "outputs": [
    {
     "data": {
      "text/plain": [
       "'WeightedEnsemble_L3'"
      ]
     },
     "execution_count": 19,
     "metadata": {},
     "output_type": "execute_result"
    }
   ],
   "source": [
    "predictor.get_model_best()"
   ]
  },
  {
   "cell_type": "code",
   "execution_count": 20,
   "metadata": {},
   "outputs": [],
   "source": [
    "testd = test_data.drop('count', 1)"
   ]
  },
  {
   "cell_type": "code",
   "execution_count": 21,
   "metadata": {},
   "outputs": [
    {
     "data": {
      "text/html": [
       "<div>\n",
       "<style scoped>\n",
       "    .dataframe tbody tr th:only-of-type {\n",
       "        vertical-align: middle;\n",
       "    }\n",
       "\n",
       "    .dataframe tbody tr th {\n",
       "        vertical-align: top;\n",
       "    }\n",
       "\n",
       "    .dataframe thead th {\n",
       "        text-align: right;\n",
       "    }\n",
       "</style>\n",
       "<table border=\"1\" class=\"dataframe\">\n",
       "  <thead>\n",
       "    <tr style=\"text-align: right;\">\n",
       "      <th></th>\n",
       "      <th>importance</th>\n",
       "      <th>stddev</th>\n",
       "      <th>p_value</th>\n",
       "      <th>n</th>\n",
       "      <th>p99_high</th>\n",
       "      <th>p99_low</th>\n",
       "    </tr>\n",
       "  </thead>\n",
       "  <tbody>\n",
       "    <tr>\n",
       "      <th>humidity</th>\n",
       "      <td>32.542352</td>\n",
       "      <td>4.854351</td>\n",
       "      <td>0.003668</td>\n",
       "      <td>3</td>\n",
       "      <td>60.358319</td>\n",
       "      <td>4.726384</td>\n",
       "    </tr>\n",
       "    <tr>\n",
       "      <th>temp</th>\n",
       "      <td>14.649054</td>\n",
       "      <td>1.651121</td>\n",
       "      <td>0.002104</td>\n",
       "      <td>3</td>\n",
       "      <td>24.110158</td>\n",
       "      <td>5.187950</td>\n",
       "    </tr>\n",
       "    <tr>\n",
       "      <th>season</th>\n",
       "      <td>12.656816</td>\n",
       "      <td>2.647201</td>\n",
       "      <td>0.007135</td>\n",
       "      <td>3</td>\n",
       "      <td>27.825570</td>\n",
       "      <td>-2.511939</td>\n",
       "    </tr>\n",
       "    <tr>\n",
       "      <th>atemp</th>\n",
       "      <td>10.597395</td>\n",
       "      <td>0.924395</td>\n",
       "      <td>0.001263</td>\n",
       "      <td>3</td>\n",
       "      <td>15.894281</td>\n",
       "      <td>5.300509</td>\n",
       "    </tr>\n",
       "    <tr>\n",
       "      <th>windspeed</th>\n",
       "      <td>4.343065</td>\n",
       "      <td>0.630884</td>\n",
       "      <td>0.003480</td>\n",
       "      <td>3</td>\n",
       "      <td>7.958099</td>\n",
       "      <td>0.728032</td>\n",
       "    </tr>\n",
       "    <tr>\n",
       "      <th>weather</th>\n",
       "      <td>3.354285</td>\n",
       "      <td>1.810566</td>\n",
       "      <td>0.042465</td>\n",
       "      <td>3</td>\n",
       "      <td>13.729031</td>\n",
       "      <td>-7.020462</td>\n",
       "    </tr>\n",
       "    <tr>\n",
       "      <th>workingday</th>\n",
       "      <td>2.682273</td>\n",
       "      <td>0.205860</td>\n",
       "      <td>0.000979</td>\n",
       "      <td>3</td>\n",
       "      <td>3.861873</td>\n",
       "      <td>1.502673</td>\n",
       "    </tr>\n",
       "    <tr>\n",
       "      <th>holiday</th>\n",
       "      <td>0.259432</td>\n",
       "      <td>0.316824</td>\n",
       "      <td>0.145937</td>\n",
       "      <td>3</td>\n",
       "      <td>2.074869</td>\n",
       "      <td>-1.556004</td>\n",
       "    </tr>\n",
       "  </tbody>\n",
       "</table>\n",
       "</div>"
      ],
      "text/plain": [
       "            importance    stddev   p_value  n   p99_high   p99_low\n",
       "humidity     32.542352  4.854351  0.003668  3  60.358319  4.726384\n",
       "temp         14.649054  1.651121  0.002104  3  24.110158  5.187950\n",
       "season       12.656816  2.647201  0.007135  3  27.825570 -2.511939\n",
       "atemp        10.597395  0.924395  0.001263  3  15.894281  5.300509\n",
       "windspeed     4.343065  0.630884  0.003480  3   7.958099  0.728032\n",
       "weather       3.354285  1.810566  0.042465  3  13.729031 -7.020462\n",
       "workingday    2.682273  0.205860  0.000979  3   3.861873  1.502673\n",
       "holiday       0.259432  0.316824  0.145937  3   2.074869 -1.556004"
      ]
     },
     "execution_count": 21,
     "metadata": {},
     "output_type": "execute_result"
    }
   ],
   "source": [
    "predictor.feature_importance(test_data)"
   ]
  },
  {
   "cell_type": "code",
   "execution_count": 22,
   "metadata": {},
   "outputs": [
    {
     "data": {
      "text/html": [
       "<div>\n",
       "<style scoped>\n",
       "    .dataframe tbody tr th:only-of-type {\n",
       "        vertical-align: middle;\n",
       "    }\n",
       "\n",
       "    .dataframe tbody tr th {\n",
       "        vertical-align: top;\n",
       "    }\n",
       "\n",
       "    .dataframe thead th {\n",
       "        text-align: right;\n",
       "    }\n",
       "</style>\n",
       "<table border=\"1\" class=\"dataframe\">\n",
       "  <thead>\n",
       "    <tr style=\"text-align: right;\">\n",
       "      <th></th>\n",
       "      <th>datetime</th>\n",
       "      <th>count</th>\n",
       "    </tr>\n",
       "  </thead>\n",
       "  <tbody>\n",
       "    <tr>\n",
       "      <th>0</th>\n",
       "      <td>2011-01-01 01:00:00</td>\n",
       "      <td>14.400429</td>\n",
       "    </tr>\n",
       "    <tr>\n",
       "      <th>1</th>\n",
       "      <td>2011-01-01 02:00:00</td>\n",
       "      <td>14.400429</td>\n",
       "    </tr>\n",
       "    <tr>\n",
       "      <th>2</th>\n",
       "      <td>2011-01-01 03:00:00</td>\n",
       "      <td>20.799892</td>\n",
       "    </tr>\n",
       "    <tr>\n",
       "      <th>3</th>\n",
       "      <td>2011-01-01 04:00:00</td>\n",
       "      <td>20.799892</td>\n",
       "    </tr>\n",
       "    <tr>\n",
       "      <th>4</th>\n",
       "      <td>2011-01-01 05:00:00</td>\n",
       "      <td>82.551575</td>\n",
       "    </tr>\n",
       "  </tbody>\n",
       "</table>\n",
       "</div>"
      ],
      "text/plain": [
       "             datetime      count\n",
       "0 2011-01-01 01:00:00  14.400429\n",
       "1 2011-01-01 02:00:00  14.400429\n",
       "2 2011-01-01 03:00:00  20.799892\n",
       "3 2011-01-01 04:00:00  20.799892\n",
       "4 2011-01-01 05:00:00  82.551575"
      ]
     },
     "execution_count": 22,
     "metadata": {},
     "output_type": "execute_result"
    }
   ],
   "source": [
    "predictions = predictor.predict(testd)\n",
    "predictions[predictions < 0] = 0\n",
    "predictions = predictions.reset_index()\n",
    "predictions.head()"
   ]
  },
  {
   "cell_type": "code",
   "execution_count": 23,
   "metadata": {},
   "outputs": [],
   "source": [
    "import matplotlib.pyplot as plt"
   ]
  },
  {
   "cell_type": "code",
   "execution_count": 24,
   "metadata": {},
   "outputs": [
    {
     "data": {
      "text/plain": [
       "[<matplotlib.lines.Line2D at 0x7f57d4270a10>]"
      ]
     },
     "execution_count": 24,
     "metadata": {},
     "output_type": "execute_result"
    },
    {
     "data": {
      "image/png": "[encoded data removed]",
      "text/plain": [
       "<Figure size 432x288 with 1 Axes>"
      ]
     },
     "metadata": {
      "needs_background": "light"
     },
     "output_type": "display_data"
    }
   ],
   "source": [
    "plt.plot(test_data['count'].to_list())"
   ]
  },
  {
   "cell_type": "code",
   "execution_count": 26,
   "metadata": {},
   "outputs": [
    {
     "data": {
      "text/plain": [
       "[<matplotlib.lines.Line2D at 0x7f57d6c7bd10>]"
      ]
     },
     "execution_count": 26,
     "metadata": {},
     "output_type": "execute_result"
    },
    {
     "data": {
      "image/png": "[encoded data removed]",
      "text/plain": [
       "<Figure size 432x288 with 1 Axes>"
      ]
     },
     "metadata": {
      "needs_background": "light"
     },
     "output_type": "display_data"
    }
   ],
   "source": [
    "plt.plot(predictions['count'].to_list())"
   ]
  },
  {
   "cell_type": "code",
   "execution_count": 27,
   "metadata": {},
   "outputs": [],
   "source": [
    "xx =  predictions['count']\n",
    "yy =  test_data['count']"
   ]
  },
  {
   "cell_type": "code",
   "execution_count": 28,
   "metadata": {},
   "outputs": [
    {
     "data": {
      "text/plain": [
       "7947"
      ]
     },
     "execution_count": 28,
     "metadata": {},
     "output_type": "execute_result"
    }
   ],
   "source": [
    "len(xx)"
   ]
  },
  {
   "cell_type": "code",
   "execution_count": 29,
   "metadata": {},
   "outputs": [
    {
     "data": {
      "image/png": "[encoded data removed]",
      "text/plain": [
       "<Figure size 432x288 with 1 Axes>"
      ]
     },
     "metadata": {
      "needs_background": "light"
     },
     "output_type": "display_data"
    }
   ],
   "source": [
    "test_pred = plt.scatter(yy,xx, color='b')\n",
    "#test_test = plt.scatter(y_test['count'], y_test['count'], color='g')\n",
    "#plt.legend((test_pred, test), ('prediction', 'truth'), loc='upper left', fontsize=8)\n",
    "plt.show()"
   ]
  },
  {
   "cell_type": "code",
   "execution_count": 33,
   "metadata": {},
   "outputs": [],
   "source": [
    "n = len(xx)\n",
    "k = 100\n",
    "arx = np.zeros(n-k)\n"
   ]
  },
  {
   "cell_type": "code",
   "execution_count": 34,
   "metadata": {},
   "outputs": [],
   "source": [
    "for i in range(0, n-k):\n",
    "  s=0\n",
    "  for j in range(k):\n",
    "    s+= xx[i+j]\n",
    "  arx[i] = s/k"
   ]
  },
  {
   "cell_type": "code",
   "execution_count": 35,
   "metadata": {},
   "outputs": [],
   "source": [
    "ary = np.zeros(n-k)\n",
    "for i in range(0, n-k):\n",
    "  s=0\n",
    "  for j in range(k):\n",
    "    s+= yy[i+j]\n",
    "  ary[i] = s/k"
   ]
  },
  {
   "cell_type": "code",
   "execution_count": 36,
   "metadata": {},
   "outputs": [
    {
     "data": {
      "text/plain": [
       "[<matplotlib.lines.Line2D at 0x7f57f75cc990>]"
      ]
     },
     "execution_count": 36,
     "metadata": {},
     "output_type": "execute_result"
    },
    {
     "data": {
      "image/png": "[encoded data removed]",
      "text/plain": [
       "<Figure size 432x288 with 1 Axes>"
      ]
     },
     "metadata": {
      "needs_background": "light"
     },
     "output_type": "display_data"
    }
   ],
   "source": [
    "plt.plot(ary)\n",
    "plt.plot(arx)"
   ]
  },
  {
   "cell_type": "code",
   "execution_count": null,
   "metadata": {},
   "outputs": [],
   "source": []
  }
 ],
 "metadata": {
  "kernelspec": {
   "display_name": "Python 3",
   "language": "python",
   "name": "python3"
  },
  "language_info": {
   "codemirror_mode": {
    "name": "ipython",
    "version": 3
   },
   "file_extension": ".py",
   "mimetype": "text/x-python",
   "name": "python",
   "nbconvert_exporter": "python",
   "pygments_lexer": "ipython3",
   "version": "3.7.6"
  }
 },
 "nbformat": 4,
 "nbformat_minor": 5
}
